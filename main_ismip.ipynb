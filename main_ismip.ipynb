{
 "cells": [
  {
   "cell_type": "markdown",
   "metadata": {
    "tags": []
   },
   "source": [
    "## ISMIP6 Tool of Observing Model Ranges using Clustering"
   ]
  },
  {
   "cell_type": "markdown",
   "metadata": {},
   "source": [
    "Eleanor M. Byrne"
   ]
  },
  {
   "cell_type": "markdown",
   "metadata": {},
   "source": [
    "### Introduction to the Tool\n",
    "#### <i>The Purpose</i>"
   ]
  },
  {
   "cell_type": "markdown",
   "metadata": {
    "tags": []
   },
   "source": [
    "### Modules/Packages"
   ]
  },
  {
   "cell_type": "code",
   "execution_count": 1,
   "metadata": {
    "tags": []
   },
   "outputs": [],
   "source": [
    "# import models\n",
    "%matplotlib inline\n",
    "import os\n",
    "os.environ[\"OMP_NUM_THREADS\"] = '1'\n",
    "import glob\n",
    "import pandas as pd\n",
    "import netCDF4 as nc\n",
    "from netCDF4 import Dataset\n",
    "import numpy as np\n",
    "import matplotlib.pyplot as plt\n",
    "import geopandas as gpd\n",
    "from IPython.display import display\n",
    "from typing import List\n",
    "from pathlib import Path\n",
    "import re\n",
    "import xarray as xr\n",
    "from scipy.cluster.hierarchy import linkage, dendrogram\n",
    "# from plots_graphs.basemap import Base_temp_VUW_PISM, cartopy_basemap\n",
    "from sklearn.cluster import KMeans\n",
    "import matplotlib.colors as mcolors\n",
    "import seaborn as sns\n",
    "from tabulate import tabulate\n",
    "from sklearn.preprocessing import StandardScaler\n",
    "import ipywidgets as widgets\n",
    "# from utils.file_upload import file_upload\n",
    "# from utils.files_types import folder_dir"
   ]
  },
  {
   "cell_type": "markdown",
   "metadata": {
    "tags": []
   },
   "source": [
    "### ISMIP6 Terminology\n",
    "\n",
    "For the ISMIP6 data it consists of a few different experiments that are used for ice sheet simulations. "
   ]
  },
  {
   "cell_type": "markdown",
   "metadata": {},
   "source": [
    "| Header 1 | Header 2 | Header 3 |\n",
    "|----------|----------|----------|\n",
    "| Row 1, Col 1 | Row 1, Col 2 | Row 1, Col 3 |\n",
    "| Row 2, Col 1 | Row 2, Col 2 | Row 2, Col 3 |\n",
    "| Row 3, Col 1 | Row 3, Col 2 | Row 3, Col 3 |"
   ]
  },
  {
   "cell_type": "markdown",
   "metadata": {
    "tags": []
   },
   "source": [
    "### The NetCDF Files\n",
    "<h5 id=\"C5\">[5]</h5>"
   ]
  },
  {
   "cell_type": "markdown",
   "metadata": {},
   "source": [
    "#### Group ISMIP6 Data by Variable and Experiment Type\n",
    "This is for grouping the files based on the processes and the experiment type. Make sure that the user already has ISMIP6 downloaded, from globus personal, on their computer and set as the directory/path.\n",
    "\n",
    "An ISMIP6 file name is constructed as <i>variable_IS_GROUP_MODEL_EXP.nc</i>:\n",
    "\n",
    "| <h4>File name convention</h4> | <h4>Description</h4> |\n",
    "|----------|----------|\n",
    "| <b>variable</b> | The variable is the forcing that is being observed. They tend to contain 3 dimentsions (x,y,t) but sometimes time will not be in the nc file components depending on the variable|\n",
    "|<b>IS</b>|The ice sheet of either AIS or GIS (Antarctic or Greenland)|\n",
    "|<b>Group</b>|Research group acronym|\n",
    "|<b>Model</b>|Model acronym|\n",
    "|<b>EXP</b>|experiment name|"
   ]
  },
  {
   "cell_type": "code",
   "execution_count": 2,
   "metadata": {
    "tags": []
   },
   "outputs": [],
   "source": [
    "# set the path/directory where the files are located\n",
    "path = \"C:/Users/Margo/OneDrive/Documents/ISMIP_ResearchThesis/models/\"\n",
    "\n",
    "# filter through the files \n",
    "'''\n",
    "Format of compiling/filtering the different variables, group, model, and exp types is <variable>_<IS>_<GROUP>_<MODEL>_<EXP>.nc\n",
    "'''\n",
    "def filter_files(directory, variable, IS_type, exp_type):\n",
    "    # insert the variable name (ex: lithk) and the exp type (ex: ctrl_proj) that will be visualized\n",
    "    # GIS is Greenland \n",
    "    pattern = re.compile(fr'{variable}_{IS_type}_\\w+_\\w+_{exp_type}\\.nc', re.IGNORECASE)\n",
    "    filtered_files = []\n",
    "    for root, dirs, files in os.walk(directory):\n",
    "        # Check if '___ is in any of the subdirectory names\n",
    "        if exp_type in root:\n",
    "            for filename in files:\n",
    "                # if pattern/filter matches the files found in the path showcase/bind them\n",
    "                if pattern.match(filename):\n",
    "                    filtered_files.append(os.path.join(root, filename))\n",
    "    return filtered_files"
   ]
  },
  {
   "cell_type": "code",
   "execution_count": 5,
   "metadata": {
    "tags": []
   },
   "outputs": [
    {
     "data": {
      "application/vnd.jupyter.widget-view+json": {
       "model_id": "c0ceed24f6394b2181980479bc7ab48e",
       "version_major": 2,
       "version_minor": 0
      },
      "text/plain": [
       "Combobox(value='', description='Variable:', options=('lithk', 'orog', 'topg', 'hfgeoubed', 'acabf', 'libmassbf…"
      ]
     },
     "metadata": {},
     "output_type": "display_data"
    },
    {
     "data": {
      "application/vnd.jupyter.widget-view+json": {
       "model_id": "ba9769328d2b477fa4547147feb9485e",
       "version_major": 2,
       "version_minor": 0
      },
      "text/plain": [
       "Combobox(value='', description='IS', options=('GIS', 'AIS'), placeholder='Enter IS name (GIS or AIS)')"
      ]
     },
     "metadata": {},
     "output_type": "display_data"
    },
    {
     "data": {
      "application/vnd.jupyter.widget-view+json": {
       "model_id": "0cf78270d4b44cfaaf91d15b515af9df",
       "version_major": 2,
       "version_minor": 0
      },
      "text/plain": [
       "Combobox(value='', description='Exp Type:', options=('ctrl', 'asmb', 'historical', 'ctrl_proj'), placeholder='…"
      ]
     },
     "metadata": {},
     "output_type": "display_data"
    },
    {
     "data": {
      "application/vnd.jupyter.widget-view+json": {
       "model_id": "11eb493b5fb647c0ae39ebd339988436",
       "version_major": 2,
       "version_minor": 0
      },
      "text/plain": [
       "Button(button_style='success', description='Filter Files', style=ButtonStyle(), tooltip='Click me')"
      ]
     },
     "metadata": {},
     "output_type": "display_data"
    },
    {
     "data": {
      "application/vnd.jupyter.widget-view+json": {
       "model_id": "9c1a56d63a9446269593e841a00cbd94",
       "version_major": 2,
       "version_minor": 0
      },
      "text/plain": [
       "Output()"
      ]
     },
     "metadata": {},
     "output_type": "display_data"
    }
   ],
   "source": [
    "\n",
    "''' Widget section \n",
    "\n",
    "Question: What is a Widget?\n",
    "\n",
    "Answer: They are interactive graphical user interface (GUIs) that can be used to display components like sliders, text boxes, etc\n",
    "\n",
    "'''\n",
    "# Create widgets for user input\n",
    "variable_widget = widgets.Combobox(\n",
    "    value='',\n",
    "    options = ['lithk', 'orog', 'topg', 'hfgeoubed', 'acabf', 'libmassbfgr', 'libmassbffl', 'dlithkdt', 'xvelsurf', 'yvelsurf', 'zvelsurf', 'xvelbase', \n",
    "               'yvelbase', 'zvelbase', 'zvelbase', 'xvelmean', 'yvelmean', 'litemptop', 'litempbotgr', 'litempbotfl', 'strbasemag', 'licalvf', 'lifmassbf',\n",
    "               'sftgif', 'sftgrf', 'sftflf'],\n",
    "    description='Variable:',\n",
    "    placeholder='Enter variable name (e.g., lithk)'\n",
    ")\n",
    "\n",
    "IS_widget = widgets.Combobox(\n",
    "    value ='',\n",
    "    options = ['GIS', 'AIS'],\n",
    "    description = 'IS',\n",
    "    placeholder='Enter IS name (GIS or AIS)'\n",
    ")\n",
    "\n",
    "exp_type_widget = widgets.Combobox(\n",
    "    value='',\n",
    "    options = ['ctrl', 'asmb', 'historical', 'ctrl_proj'],\n",
    "    description='Exp Type:',\n",
    "    placeholder='Enter experiment type (e.g., ctrl_proj)'\n",
    ")\n",
    "\n",
    "\n",
    "# Function to display filtered files based on widget inputs\n",
    "def on_button_click(b):\n",
    "    variable = variable_widget.value\n",
    "    IS_type = IS_widget.value\n",
    "    exp_type = exp_type_widget.value\n",
    "    filtered_files = filter_files(path, variable, IS_type, exp_type)\n",
    "    \n",
    "    # Store the filtered file paths for use in the next section\n",
    "    global file_paths\n",
    "    file_paths = filtered_files\n",
    "    \n",
    "    # Clear previous outputs\n",
    "    output.clear_output()\n",
    "    \n",
    "    with output:\n",
    "        # Print the filtered file paths\n",
    "        if filtered_files:\n",
    "            print(\"Filtered Files:\")\n",
    "            for file_path in filtered_files:\n",
    "                print(file_path.replace('\\\\', '/'))\n",
    "        else:\n",
    "            print(\"No files found matching the criteria.\")\n",
    "\n",
    "# Create a button to trigger the file filtering\n",
    "filter_button = widgets.Button(\n",
    "    description=\"Filter Files\", \n",
    "    disabled=False, \n",
    "    button_style='success', \n",
    "    tooltip='Click me',\n",
    ")\n",
    "\n",
    "# Define the button click event handler\n",
    "filter_button.on_click(on_button_click)\n",
    "\n",
    "# Create an output widget to display text\n",
    "output = widgets.Output()\n",
    "\n",
    "# Display the widgets and button\n",
    "display(variable_widget, IS_widget, exp_type_widget, filter_button, output)"
   ]
  },
  {
   "cell_type": "markdown",
   "metadata": {},
   "source": [
    "#### <i>Creating a personalized list of ISMIP and Cleaning the Data</i>"
   ]
  },
  {
   "cell_type": "code",
   "execution_count": null,
   "metadata": {
    "tags": []
   },
   "outputs": [],
   "source": [
    "# path = 'C:/Users/Margo/OneDrive/Documents/ISMIP_ResearchThesis/models/AWI/ISSM1/ctrl_proj/lithk_GIS_AWI_ISSM1_ctrl_proj.nc'\n",
    "# dataset = xr.open_dataset(path)\n",
    "\n",
    "# # Print the time coordinates for the 'lithk' variable\n",
    "# time_coords = dataset['lithk'].coords['time']\n",
    "# print(time_coords)"
   ]
  },
  {
   "cell_type": "code",
   "execution_count": 7,
   "metadata": {
    "tags": []
   },
   "outputs": [],
   "source": [
    "\n",
    "# Function to extract data variables and comments\n",
    "def data_variables(file_path, variable_name, time_indices):\n",
    "    with xr.open_dataset(file_path) as data:\n",
    "        # Extract the specified variable\n",
    "        field_var = data[variable_name]\n",
    "        \n",
    "        # Extract model group information from attributes\n",
    "        model_group = data.attrs.get('comment', 'No comment')\n",
    "        \n",
    "        # Check if 'time' dimension exists and handle accordingly\n",
    "        if 'time' in field_var.dims:\n",
    "            time_values = data.coords['time'].values\n",
    "            if time_indices is not None:\n",
    "                field_var = field_var.isel(time=time_indices)\n",
    "            else:\n",
    "                field_var = field_var.isel(time=slice(None))  # Select all time slices\n",
    "        else:\n",
    "            time_values = None\n",
    "            \n",
    "        return field_var, model_group, time_values\n",
    "\n",
    "def extract_variables(file_paths, variable_name, time_indices):\n",
    "    # create an empty list \n",
    "    extracted_data = [] \n",
    "\n",
    "    for file_path in file_paths:\n",
    "        try:\n",
    "            field_var, model_group, time_values = data_variables(file_path, variable_name, time_indices)\n",
    "            extracted_data.append((field_var, model_group, time_values))\n",
    "        except Exception as e:\n",
    "            print(f\"Error processing {file_path}: {e}\")\n",
    "        \n",
    "    return extracted_data\n",
    "\n",
    "def aggregate_data(extracted_data, variable_name):\n",
    "    all_data = []\n",
    "    for field_var, model_group, time_values in extracted_data:\n",
    "        # Convert field_var to DataFrame\n",
    "        field_var_df = field_var.to_dataframe().reset_index()\n",
    "        \n",
    "        # If time values exist, add them to the DataFrame\n",
    "        if time_values is not None:\n",
    "            # Create a DataFrame for time values and repeat the first time value for each row\n",
    "            time_df = pd.DataFrame({'Time': [time_values[0]] * len(field_var_df)})\n",
    "            # Concatenate time DataFrame with the field variable DataFrame\n",
    "            field_var_df = pd.concat([time_df, field_var_df], axis=1)\n",
    "        # Add model_group to the DataFrame\n",
    "        field_var_df['Model Group'] = model_group\n",
    "    \n",
    "        # Append to the list of all data\n",
    "        all_data.append(field_var_df)\n",
    "        \n",
    "    # Concatenate all DataFrames\n",
    "    aggregated_data = pd.concat(all_data, ignore_index=True)\n",
    "\n",
    "    # Convert NaNs to zeros\n",
    "    aggregated_data.fillna(0, inplace=True)\n",
    "\n",
    "    # Filter out rows where variable is zero across all models\n",
    "    filtered_data = aggregated_data[aggregated_data[variable_name] != 0]\n",
    "\n",
    "\n",
    "    # Record the cleaned DataFrame\n",
    "    return filtered_data, variable_name"
   ]
  },
  {
   "cell_type": "code",
   "execution_count": 9,
   "metadata": {
    "tags": []
   },
   "outputs": [
    {
     "data": {
      "application/vnd.jupyter.widget-view+json": {
       "model_id": "2406e9691aa6414f96072fdb367124f1",
       "version_major": 2,
       "version_minor": 0
      },
      "text/plain": [
       "Combobox(value='', description='Variable:', options=('lithk', 'orog', 'topg', 'hfgeoubed', 'acabf', 'libmassbf…"
      ]
     },
     "metadata": {},
     "output_type": "display_data"
    },
    {
     "data": {
      "application/vnd.jupyter.widget-view+json": {
       "model_id": "cf624c42639b4931bb2a019beca3d8fe",
       "version_major": 2,
       "version_minor": 0
      },
      "text/plain": [
       "BoundedIntText(value=0, description='Year Index:', max=86)"
      ]
     },
     "metadata": {},
     "output_type": "display_data"
    },
    {
     "data": {
      "application/vnd.jupyter.widget-view+json": {
       "model_id": "e7ca954cfd5d4296a6f15082589c8521",
       "version_major": 2,
       "version_minor": 0
      },
      "text/plain": [
       "Button(button_style='success', description='Extract and Display Data', style=ButtonStyle(), tooltip='Click me'…"
      ]
     },
     "metadata": {},
     "output_type": "display_data"
    },
    {
     "data": {
      "application/vnd.jupyter.widget-view+json": {
       "model_id": "2242e33261a94e26853b7ef10ca95498",
       "version_major": 2,
       "version_minor": 0
      },
      "text/plain": [
       "Output()"
      ]
     },
     "metadata": {},
     "output_type": "display_data"
    }
   ],
   "source": [
    "'''\n",
    "Widget Section: \n",
    "\n",
    "This consists of the variable data which contains the data across greenland and the time that will be observed\n",
    "\n",
    "'''\n",
    "variable_extraction_widget = widgets.Combobox(\n",
    "    value='',\n",
    "    options=['lithk', 'orog', 'topg', 'hfgeoubed', 'acabf', 'libmassbfgr', 'libmassbffl', 'dlithkdt', 'xvelsurf', 'yvelsurf', 'zvelsurf', 'xvelbase', \n",
    "               'yvelbase', 'zvelbase', 'zvelbase', 'xvelmean', 'yvelmean', 'litemptop', 'litempbotgr', 'litempbotfl', 'strbasemag', 'licalvf', 'lifmassbf',\n",
    "               'sftgif', 'sftgrf', 'sftflf'],\n",
    "    description= 'Variable:',\n",
    "    placeholder='Enter variable name (e.g., lithk)'\n",
    ")\n",
    "\n",
    "# Widget for selecting a year (using IntSlider)\n",
    "year_widget = widgets.BoundedIntText(\n",
    "    value=0,\n",
    "    min=0,\n",
    "    max=86, # 85 is the max year, 2101\n",
    "    step=1,\n",
    "    description='Year Index:',\n",
    "    continuous_update=False\n",
    ")\n",
    "\n",
    "# Create a button to trigger the data extraction and display\n",
    "extraction_button = widgets.Button(\n",
    "    description=\"Extract and Display Data\",\n",
    "    disabled=False,\n",
    "    button_style='success',\n",
    "    tooltip='Click me'\n",
    ")\n",
    "\n",
    "def on_extraction_button_click(b):\n",
    "    variable_name = variable_extraction_widget.value \n",
    "    # return the variable name \n",
    "    year = year_widget.value\n",
    "    # Extract variable data\n",
    "    try:\n",
    "        # Convert year to index\n",
    "        time_indices = [year]\n",
    "        \n",
    "        # Extract variables\n",
    "        extracted_data = extract_variables(file_paths, variable_name, time_indices)\n",
    "        \n",
    "        # Aggregate data\n",
    "        \n",
    "        global filtered_data, returned_variable_name\n",
    "        \n",
    "        filtered_data, returned_variable_name = aggregate_data(extracted_data, variable_name)\n",
    "        \n",
    "        with extraction_output:\n",
    "            extraction_output.clear_output()\n",
    "            if not filtered_data.empty:\n",
    "                print(filtered_data)\n",
    "            else:\n",
    "                print(\"No data available for the selected criteria.\")\n",
    "    \n",
    "    except Exception as e:\n",
    "        with extraction_output:\n",
    "            extraction_output.clear_output()\n",
    "            print(f\"An error occurred: {e}\")\n",
    "            \n",
    "    return variable_name, returned_variable_name\n",
    "\n",
    "# Create an output widget to display text\n",
    "extraction_output = widgets.Output()\n",
    "\n",
    "# Attach event handler to button\n",
    "extraction_button.on_click(on_extraction_button_click)\n",
    "\n",
    "# Display widgets and button\n",
    "display(variable_extraction_widget, year_widget, extraction_button, extraction_output)"
   ]
  },
  {
   "cell_type": "code",
   "execution_count": 10,
   "metadata": {
    "collapsed": true,
    "jupyter": {
     "outputs_hidden": true
    },
    "tags": []
   },
   "outputs": [
    {
     "data": {
      "text/html": [
       "<div>\n",
       "<style scoped>\n",
       "    .dataframe tbody tr th:only-of-type {\n",
       "        vertical-align: middle;\n",
       "    }\n",
       "\n",
       "    .dataframe tbody tr th {\n",
       "        vertical-align: top;\n",
       "    }\n",
       "\n",
       "    .dataframe thead th {\n",
       "        text-align: right;\n",
       "    }\n",
       "</style>\n",
       "<table border=\"1\" class=\"dataframe\">\n",
       "  <thead>\n",
       "    <tr style=\"text-align: right;\">\n",
       "      <th></th>\n",
       "      <th>Time</th>\n",
       "      <th>time</th>\n",
       "      <th>y</th>\n",
       "      <th>x</th>\n",
       "      <th>lon</th>\n",
       "      <th>lat</th>\n",
       "      <th>lithk</th>\n",
       "      <th>Model Group</th>\n",
       "    </tr>\n",
       "  </thead>\n",
       "  <tbody>\n",
       "    <tr>\n",
       "      <th>10605</th>\n",
       "      <td>2016-01-01 00:00:00</td>\n",
       "      <td>2016-01-01 00:00:00</td>\n",
       "      <td>31.0</td>\n",
       "      <td>158.0</td>\n",
       "      <td>-43.782974</td>\n",
       "      <td>60.236876</td>\n",
       "      <td>23.928774</td>\n",
       "      <td>AWI, ISSM1</td>\n",
       "    </tr>\n",
       "    <tr>\n",
       "      <th>10606</th>\n",
       "      <td>2016-01-01 00:00:00</td>\n",
       "      <td>2016-01-01 00:00:00</td>\n",
       "      <td>31.0</td>\n",
       "      <td>159.0</td>\n",
       "      <td>-43.696072</td>\n",
       "      <td>60.235925</td>\n",
       "      <td>28.058300</td>\n",
       "      <td>AWI, ISSM1</td>\n",
       "    </tr>\n",
       "    <tr>\n",
       "      <th>10607</th>\n",
       "      <td>2016-01-01 00:00:00</td>\n",
       "      <td>2016-01-01 00:00:00</td>\n",
       "      <td>31.0</td>\n",
       "      <td>160.0</td>\n",
       "      <td>-43.609177</td>\n",
       "      <td>60.234909</td>\n",
       "      <td>34.677792</td>\n",
       "      <td>AWI, ISSM1</td>\n",
       "    </tr>\n",
       "    <tr>\n",
       "      <th>10608</th>\n",
       "      <td>2016-01-01 00:00:00</td>\n",
       "      <td>2016-01-01 00:00:00</td>\n",
       "      <td>31.0</td>\n",
       "      <td>161.0</td>\n",
       "      <td>-43.522288</td>\n",
       "      <td>60.233827</td>\n",
       "      <td>46.750973</td>\n",
       "      <td>AWI, ISSM1</td>\n",
       "    </tr>\n",
       "    <tr>\n",
       "      <th>10609</th>\n",
       "      <td>2016-01-01 00:00:00</td>\n",
       "      <td>2016-01-01 00:00:00</td>\n",
       "      <td>31.0</td>\n",
       "      <td>162.0</td>\n",
       "      <td>-43.435406</td>\n",
       "      <td>60.232680</td>\n",
       "      <td>49.023556</td>\n",
       "      <td>AWI, ISSM1</td>\n",
       "    </tr>\n",
       "    <tr>\n",
       "      <th>...</th>\n",
       "      <td>...</td>\n",
       "      <td>...</td>\n",
       "      <td>...</td>\n",
       "      <td>...</td>\n",
       "      <td>...</td>\n",
       "      <td>...</td>\n",
       "      <td>...</td>\n",
       "      <td>...</td>\n",
       "    </tr>\n",
       "    <tr>\n",
       "      <th>2909843</th>\n",
       "      <td>2016-01-01 00:00:00</td>\n",
       "      <td>2016-01-01 00:00:00</td>\n",
       "      <td>-670000.0</td>\n",
       "      <td>205000.0</td>\n",
       "      <td>-27.987453</td>\n",
       "      <td>83.538586</td>\n",
       "      <td>0.113780</td>\n",
       "      <td>NCAR, CISM</td>\n",
       "    </tr>\n",
       "    <tr>\n",
       "      <th>2909844</th>\n",
       "      <td>2016-01-01 00:00:00</td>\n",
       "      <td>2016-01-01 00:00:00</td>\n",
       "      <td>-670000.0</td>\n",
       "      <td>210000.0</td>\n",
       "      <td>-27.597296</td>\n",
       "      <td>83.524973</td>\n",
       "      <td>0.951184</td>\n",
       "      <td>NCAR, CISM</td>\n",
       "    </tr>\n",
       "    <tr>\n",
       "      <th>2909845</th>\n",
       "      <td>2016-01-01 00:00:00</td>\n",
       "      <td>2016-01-01 00:00:00</td>\n",
       "      <td>-670000.0</td>\n",
       "      <td>215000.0</td>\n",
       "      <td>-27.208797</td>\n",
       "      <td>83.511062</td>\n",
       "      <td>1.504367</td>\n",
       "      <td>NCAR, CISM</td>\n",
       "    </tr>\n",
       "    <tr>\n",
       "      <th>2909846</th>\n",
       "      <td>2016-01-01 00:00:00</td>\n",
       "      <td>2016-01-01 00:00:00</td>\n",
       "      <td>-670000.0</td>\n",
       "      <td>220000.0</td>\n",
       "      <td>-26.821981</td>\n",
       "      <td>83.496854</td>\n",
       "      <td>1.097017</td>\n",
       "      <td>NCAR, CISM</td>\n",
       "    </tr>\n",
       "    <tr>\n",
       "      <th>2909847</th>\n",
       "      <td>2016-01-01 00:00:00</td>\n",
       "      <td>2016-01-01 00:00:00</td>\n",
       "      <td>-670000.0</td>\n",
       "      <td>225000.0</td>\n",
       "      <td>-26.436873</td>\n",
       "      <td>83.482353</td>\n",
       "      <td>0.248626</td>\n",
       "      <td>NCAR, CISM</td>\n",
       "    </tr>\n",
       "  </tbody>\n",
       "</table>\n",
       "<p>1067199 rows × 8 columns</p>\n",
       "</div>"
      ],
      "text/plain": [
       "                        Time                 time         y         x  \\\n",
       "10605    2016-01-01 00:00:00  2016-01-01 00:00:00      31.0     158.0   \n",
       "10606    2016-01-01 00:00:00  2016-01-01 00:00:00      31.0     159.0   \n",
       "10607    2016-01-01 00:00:00  2016-01-01 00:00:00      31.0     160.0   \n",
       "10608    2016-01-01 00:00:00  2016-01-01 00:00:00      31.0     161.0   \n",
       "10609    2016-01-01 00:00:00  2016-01-01 00:00:00      31.0     162.0   \n",
       "...                      ...                  ...       ...       ...   \n",
       "2909843  2016-01-01 00:00:00  2016-01-01 00:00:00 -670000.0  205000.0   \n",
       "2909844  2016-01-01 00:00:00  2016-01-01 00:00:00 -670000.0  210000.0   \n",
       "2909845  2016-01-01 00:00:00  2016-01-01 00:00:00 -670000.0  215000.0   \n",
       "2909846  2016-01-01 00:00:00  2016-01-01 00:00:00 -670000.0  220000.0   \n",
       "2909847  2016-01-01 00:00:00  2016-01-01 00:00:00 -670000.0  225000.0   \n",
       "\n",
       "               lon        lat      lithk Model Group  \n",
       "10605   -43.782974  60.236876  23.928774  AWI, ISSM1  \n",
       "10606   -43.696072  60.235925  28.058300  AWI, ISSM1  \n",
       "10607   -43.609177  60.234909  34.677792  AWI, ISSM1  \n",
       "10608   -43.522288  60.233827  46.750973  AWI, ISSM1  \n",
       "10609   -43.435406  60.232680  49.023556  AWI, ISSM1  \n",
       "...            ...        ...        ...         ...  \n",
       "2909843 -27.987453  83.538586   0.113780  NCAR, CISM  \n",
       "2909844 -27.597296  83.524973   0.951184  NCAR, CISM  \n",
       "2909845 -27.208797  83.511062   1.504367  NCAR, CISM  \n",
       "2909846 -26.821981  83.496854   1.097017  NCAR, CISM  \n",
       "2909847 -26.436873  83.482353   0.248626  NCAR, CISM  \n",
       "\n",
       "[1067199 rows x 8 columns]"
      ]
     },
     "execution_count": 10,
     "metadata": {},
     "output_type": "execute_result"
    }
   ],
   "source": [
    "filtered_data"
   ]
  },
  {
   "cell_type": "markdown",
   "metadata": {
    "tags": []
   },
   "source": [
    "#### Finding the Averages of the Models"
   ]
  },
  {
   "cell_type": "code",
   "execution_count": null,
   "metadata": {
    "tags": []
   },
   "outputs": [],
   "source": [
    "'''\n",
    "0. Revisualize it as columns and rows \n",
    "1. Replace the NaNs as zero\n",
    "2. Find the columns that have zero in it (doesn't have to be every single one)\n",
    "    2a. delete/eliminate column - remove all from the huge matrix \n",
    "3. Record these columns with their index \n",
    "'''"
   ]
  },
  {
   "cell_type": "code",
   "execution_count": 11,
   "metadata": {
    "tags": []
   },
   "outputs": [
    {
     "name": "stdout",
     "output_type": "stream",
     "text": [
      "             Model Group   lithk Mean   lithk Std    lithk Max     lithk Min\n",
      "0             AWI, ISSM1  1761.396560  856.715742  3281.667725  1.000000e+00\n",
      "1             AWI, ISSM2  1755.458016  862.417978  3281.403320  1.000000e+00\n",
      "2             AWI, ISSM3  1747.671972  869.031492  3281.411865  1.000000e+00\n",
      "3          BGC, BISICLES  1718.955688  893.297458  3359.331922  8.934317e-09\n",
      "4             GSFC, ISSM  1648.968356  928.615631  3311.590088  1.135286e-07\n",
      "5   ILTS_PIK, SICOPOLIS1  1649.102924  919.037662  3328.096436  1.137391e-04\n",
      "6   ILTS_PIK, SICOPOLIS2  1652.423240  916.097146  3328.087158  4.038518e-05\n",
      "7         IMAU, IMAUICE1  1716.663110  835.183263  3266.458984  2.100662e-03\n",
      "8         IMAU, IMAUICE2  1764.684866  819.721624  3325.912598  1.776162e-01\n",
      "9              JPL, ISSM  1699.308381  849.525527  3242.108501  4.055699e-08\n",
      "10        JPL, ISSMPALEO  1395.845928  921.320786  3009.936607  1.439397e-08\n",
      "11          LSCE, GRISLI  1790.995014  843.286060  3390.002038  5.123665e-03\n",
      "12             MUN, GSM1  1523.209734  916.672993  3231.795166  7.210825e-06\n",
      "13             MUN, GSM2  1562.277051  893.345945  3233.395264  1.648660e-05\n",
      "14            NCAR, CISM  1505.427696  979.443501  3305.381836  2.050467e-05\n"
     ]
    }
   ],
   "source": [
    "'''\n",
    "Computing the Stats of the data\n",
    "\n",
    "Mean, Standard Deviation, Min, and Max of the variable data \n",
    "\n",
    "'''\n",
    "\n",
    "stats_data_list = []\n",
    "grouped = filtered_data.groupby('Model Group')\n",
    "    \n",
    "for model_group, group_data in grouped:\n",
    "    stats = {\n",
    "            'Model Group': model_group,\n",
    "            f'{returned_variable_name} Mean': group_data[returned_variable_name].mean(),  # Mean of the variable\n",
    "            f'{returned_variable_name} Std': group_data[returned_variable_name].std(),   # Standard deviation of the variable\n",
    "            f'{returned_variable_name} Max': group_data[returned_variable_name].max(),   # Max of the variable\n",
    "            f'{returned_variable_name} Min': group_data[returned_variable_name].min()    # Min of the variable\n",
    "        }\n",
    "    stats_data_list.append(stats)\n",
    "        \n",
    "# Create DataFrame from stats data list\n",
    "stats_df = pd.DataFrame(stats_data_list)\n",
    "print(stats_df)"
   ]
  },
  {
   "cell_type": "code",
   "execution_count": 13,
   "metadata": {
    "tags": []
   },
   "outputs": [
    {
     "data": {
      "text/plain": [
       "<Figure size 1200x800 with 0 Axes>"
      ]
     },
     "metadata": {},
     "output_type": "display_data"
    },
    {
     "data": {
      "image/png": "[encoded data removed]",
      "text/plain": [
       "<Figure size 1200x800 with 1 Axes>"
      ]
     },
     "metadata": {},
     "output_type": "display_data"
    }
   ],
   "source": [
    "''' Using different plots to visualize the stats of the models\n",
    "\n",
    "Sources used: \n",
    "https://www.geeksforgeeks.org/how-to-plot-a-dataframe-using-pandas/ \n",
    "https://pandas.pydata.org/docs/reference/api/pandas.DataFrame.plot.html\n",
    "https://saturncloud.io/blog/legend-outside-the-plot-in-python-matplotlib/\n",
    "'''\n",
    "\n",
    "# Set up the figure size\n",
    "plt.figure(figsize=(12, 8))\n",
    "\n",
    "# Plot using Pandas plot method\n",
    "stats_df.plot(x='Model Group', kind='bar', width=0.8, figsize=(12, 8))\n",
    "\n",
    "# Set labels and title\n",
    "plt.xlabel('Model Group')\n",
    "plt.ylabel(f'{returned_variable_name}')\n",
    "plt.title(f'{returned_variable_name} Statistics by Model Group')\n",
    "\n",
    "# Rotate x-axis labels for better visibility\n",
    "plt.xticks(rotation=90)\n",
    "\n",
    "# Show plot\n",
    "plt.tight_layout()\n",
    "# plotting the legend and its position on the plot\n",
    "plt.legend(title='Statistics', bbox_to_anchor=(1.13, 1), loc='upper right')\n",
    "plt.show()\n"
   ]
  },
  {
   "cell_type": "markdown",
   "metadata": {},
   "source": [
    "### The Elbow Method and its Utilization"
   ]
  },
  {
   "cell_type": "code",
   "execution_count": 15,
   "metadata": {
    "tags": []
   },
   "outputs": [
    {
     "data": {
      "image/png": "[encoded data removed]",
      "text/plain": [
       "<Figure size 1000x600 with 1 Axes>"
      ]
     },
     "metadata": {},
     "output_type": "display_data"
    }
   ],
   "source": [
    "'''\n",
    "Source Used: \n",
    "https://www.geeksforgeeks.org/elbow-method-for-optimal-value-of-k-in-kmeans/\n",
    "https://scikit-learn.org/stable/modules/generated/sklearn.cluster.KMeans.html\n",
    "https://stackoverflow.com/questions/19197715/scikit-learn-k-means-elbow-criterion\n",
    "'''\n",
    "\n",
    "# prepare the data for clustering \n",
    "stats_x = stats_df[[f'{returned_variable_name} Mean', f'{returned_variable_name} Std', \n",
    "                    f'{returned_variable_name} Max', f'{returned_variable_name} Min']]\n",
    "\n",
    "# Sum of Squared Errors or WCSS (Within-Cluster Sum of Squares)\n",
    "    # Same meaning \n",
    "sse = []\n",
    "\n",
    "for k in range(1, 10):\n",
    "    kmeans = KMeans(n_clusters=k, init='random', n_init=10, random_state=42)  # Initialize KMeans with desired parameters\n",
    "    kmeans.fit(stats_x)\n",
    "    sse.append(kmeans.inertia_)\n",
    "    \n",
    "# Plot the elbow curve\n",
    "plt.figure(figsize=(10, 6))\n",
    "plt.plot(range(1, 10), sse, marker='o', linestyle='-', color='b')\n",
    "plt.xlabel('Number of Clusters')\n",
    "plt.ylabel('SSE')\n",
    "plt.title('Elbow Method for Optimal Number of Clusters')\n",
    "plt.xticks(range(1, 10))\n",
    "plt.grid(True)\n",
    "plt.show()"
   ]
  },
  {
   "cell_type": "markdown",
   "metadata": {},
   "source": [
    "### The K-means Clustering\n",
    "#### <i>How does this work?</i>"
   ]
  },
  {
   "cell_type": "code",
   "execution_count": 17,
   "metadata": {
    "tags": []
   },
   "outputs": [
    {
     "name": "stdout",
     "output_type": "stream",
     "text": [
      "Initialization complete\n",
      "Iteration 0, inertia 49510.14441858609\n",
      "Iteration 1, inertia 36182.131351161894\n",
      "Converged at iteration 1: strict convergence.\n",
      "Initialization complete\n",
      "Iteration 0, inertia 48991.73666562887\n",
      "Iteration 1, inertia 36182.131351161894\n",
      "Converged at iteration 1: strict convergence.\n",
      "Initialization complete\n",
      "Iteration 0, inertia 76237.06019249168\n",
      "Iteration 1, inertia 42073.59843760953\n",
      "Iteration 2, inertia 36182.131351161894\n",
      "Converged at iteration 2: strict convergence.\n",
      "Initialization complete\n",
      "Iteration 0, inertia 118707.26839005445\n",
      "Iteration 1, inertia 59110.20308681913\n",
      "Converged at iteration 1: strict convergence.\n",
      "Initialization complete\n",
      "Iteration 0, inertia 56701.98242408413\n",
      "Iteration 1, inertia 36182.131351161894\n",
      "Converged at iteration 1: strict convergence.\n",
      "Initialization complete\n",
      "Iteration 0, inertia 86795.91123339212\n",
      "Iteration 1, inertia 52166.71727819231\n",
      "Iteration 2, inertia 48764.255060890464\n",
      "Converged at iteration 2: strict convergence.\n",
      "Initialization complete\n",
      "Iteration 0, inertia 57220.39017704134\n",
      "Iteration 1, inertia 36182.131351161894\n",
      "Converged at iteration 1: strict convergence.\n",
      "Initialization complete\n",
      "Iteration 0, inertia 84906.96518294446\n",
      "Iteration 1, inertia 57391.01661816353\n",
      "Iteration 2, inertia 52166.71727819231\n",
      "Iteration 3, inertia 48764.255060890464\n",
      "Converged at iteration 3: strict convergence.\n",
      "Initialization complete\n",
      "Iteration 0, inertia 42836.3672912999\n",
      "Iteration 1, inertia 36182.131351161894\n",
      "Converged at iteration 1: strict convergence.\n",
      "Initialization complete\n",
      "Iteration 0, inertia 43466.65197160657\n",
      "Iteration 1, inertia 36182.131351161894\n",
      "Converged at iteration 1: strict convergence.\n",
      "Initialization complete\n",
      "Iteration 0, inertia 43354.77504425713\n",
      "Iteration 1, inertia 36182.131351161894\n",
      "Converged at iteration 1: strict convergence.\n",
      "Initialization complete\n",
      "Iteration 0, inertia 51885.358917982965\n",
      "Iteration 1, inertia 37128.67148628645\n",
      "Converged at iteration 1: strict convergence.\n",
      "Initialization complete\n",
      "Iteration 0, inertia 42948.24421864934\n",
      "Iteration 1, inertia 36182.131351161894\n",
      "Converged at iteration 1: strict convergence.\n",
      "Initialization complete\n",
      "Iteration 0, inertia 59816.26409766586\n",
      "Iteration 1, inertia 36182.131351161894\n",
      "Converged at iteration 1: strict convergence.\n",
      "Initialization complete\n",
      "Iteration 0, inertia 58475.55020226718\n",
      "Iteration 1, inertia 36182.131351161894\n",
      "Converged at iteration 1: strict convergence.\n",
      "Initialization complete\n",
      "Iteration 0, inertia 50877.18137116136\n",
      "Iteration 1, inertia 36182.131351161894\n",
      "Converged at iteration 1: strict convergence.\n",
      "Initialization complete\n",
      "Iteration 0, inertia 49622.02134593553\n",
      "Iteration 1, inertia 36182.131351161894\n",
      "Converged at iteration 1: strict convergence.\n",
      "Initialization complete\n",
      "Iteration 0, inertia 44203.40424387518\n",
      "Iteration 1, inertia 36182.131351161894\n",
      "Converged at iteration 1: strict convergence.\n",
      "Initialization complete\n",
      "Iteration 0, inertia 81153.44393368241\n",
      "Iteration 1, inertia 40711.31977917792\n",
      "Iteration 2, inertia 37128.67148628645\n",
      "Converged at iteration 2: strict convergence.\n",
      "Initialization complete\n",
      "Iteration 0, inertia 80512.24988764222\n",
      "Iteration 1, inertia 52166.71727819231\n",
      "Iteration 2, inertia 48764.255060890464\n",
      "Converged at iteration 2: strict convergence.\n",
      "Initialization complete\n",
      "Iteration 0, inertia 79317.83724350375\n",
      "Iteration 1, inertia 45087.366035446175\n",
      "Iteration 2, inertia 42073.59843760953\n",
      "Iteration 3, inertia 36182.131351161894\n",
      "Converged at iteration 3: strict convergence.\n",
      "Initialization complete\n",
      "Iteration 0, inertia 54195.6547063929\n",
      "Iteration 1, inertia 36182.131351161894\n",
      "Converged at iteration 1: strict convergence.\n",
      "Initialization complete\n",
      "Iteration 0, inertia 76237.06019249168\n",
      "Iteration 1, inertia 42073.59843760953\n",
      "Iteration 2, inertia 36182.131351161894\n",
      "Converged at iteration 2: strict convergence.\n",
      "Initialization complete\n",
      "Iteration 0, inertia 87841.67280729834\n",
      "Iteration 1, inertia 57972.14402276695\n",
      "Iteration 2, inertia 50906.99756084185\n",
      "Converged at iteration 2: strict convergence.\n",
      "Initialization complete\n",
      "Iteration 0, inertia 101476.19177070851\n",
      "Iteration 1, inertia 75642.79875124095\n",
      "Converged at iteration 1: strict convergence.\n",
      "             Model Group   lithk Mean   lithk Std    lithk Max     lithk Min  \\\n",
      "0             AWI, ISSM1  1761.396560  856.715742  3281.667725  1.000000e+00   \n",
      "1             AWI, ISSM2  1755.458016  862.417978  3281.403320  1.000000e+00   \n",
      "2             AWI, ISSM3  1747.671972  869.031492  3281.411865  1.000000e+00   \n",
      "3          BGC, BISICLES  1718.955688  893.297458  3359.331922  8.934317e-09   \n",
      "4             GSFC, ISSM  1648.968356  928.615631  3311.590088  1.135286e-07   \n",
      "5   ILTS_PIK, SICOPOLIS1  1649.102924  919.037662  3328.096436  1.137391e-04   \n",
      "6   ILTS_PIK, SICOPOLIS2  1652.423240  916.097146  3328.087158  4.038518e-05   \n",
      "7         IMAU, IMAUICE1  1716.663110  835.183263  3266.458984  2.100662e-03   \n",
      "8         IMAU, IMAUICE2  1764.684866  819.721624  3325.912598  1.776162e-01   \n",
      "9              JPL, ISSM  1699.308381  849.525527  3242.108501  4.055699e-08   \n",
      "10        JPL, ISSMPALEO  1395.845928  921.320786  3009.936607  1.439397e-08   \n",
      "11          LSCE, GRISLI  1790.995014  843.286060  3390.002038  5.123665e-03   \n",
      "12             MUN, GSM1  1523.209734  916.672993  3231.795166  7.210825e-06   \n",
      "13             MUN, GSM2  1562.277051  893.345945  3233.395264  1.648660e-05   \n",
      "14            NCAR, CISM  1505.427696  979.443501  3305.381836  2.050467e-05   \n",
      "\n",
      "    Cluster  \n",
      "0         2  \n",
      "1         2  \n",
      "2         2  \n",
      "3         0  \n",
      "4         0  \n",
      "5         0  \n",
      "6         0  \n",
      "7         2  \n",
      "8         2  \n",
      "9         2  \n",
      "10        1  \n",
      "11        2  \n",
      "12        3  \n",
      "13        3  \n",
      "14        3  \n"
     ]
    }
   ],
   "source": [
    "'''\n",
    "Sources Used:\n",
    "https://www.geeksforgeeks.org/elbow-method-for-optimal-value-of-k-in-kmeans/\n",
    "https://scikit-learn.org/stable/modules/generated/sklearn.cluster.KMeans.html\n",
    "https://chatgpt.com for understanding how to impliment centroids\n",
    "https://matplotlib.org/stable/api/legend_api.html\n",
    "'''\n",
    "\n",
    "# From the elbow method choose the k = _ depending the value \n",
    "optimal_k = 4 \n",
    "\n",
    "# Prepare the data for clustering and use stats_x variable \n",
    "kmeans = KMeans(\n",
    "    n_clusters=optimal_k,   # Number of clusters to form\n",
    "    init='k-means++',           # Method for initialization: 'random' or 'k-means++'\n",
    "    n_init=25,               # Number of times to run KMeans with different centroid seeds\n",
    "    max_iter=300,            # Maximum number of iterations for each single run\n",
    "    verbose=True,            # Verbosity mode: True for detailed output, False for none\n",
    "    random_state=42,         # Seed for random number generation for reproducibility\n",
    "    algorithm='elkan'        # Algorithm to use: 'lloyd', or 'elkan'\n",
    ")\n",
    "\n",
    "# Compute cluster centers and predict cluster index for each sample\n",
    "clusters = kmeans.fit_predict(stats_x)\n",
    "\n",
    "# Add the cluster labels to the DataFrame\n",
    "stats_df['Cluster'] = clusters\n",
    "\n",
    "# Display the DataFrame with cluster labels\n",
    "print(stats_df)\n",
    "\n",
    "# Save the centroids, they are the center of the cluster \n",
    "centroids = kmeans.cluster_centers_"
   ]
  },
  {
   "cell_type": "code",
   "execution_count": 21,
   "metadata": {
    "tags": []
   },
   "outputs": [
    {
     "data": {
      "image/png": "[encoded data removed]",
      "text/plain": [
       "<Figure size 1000x1000 with 1 Axes>"
      ]
     },
     "metadata": {},
     "output_type": "display_data"
    }
   ],
   "source": [
    "'''\n",
    "Now that the centroids are found the next step is to visualize the clusters\n",
    "Centroids are the central points of each cluster\n",
    "They represent the average position of all the points in a cluster in the feature space\n",
    "\n",
    "'''\n",
    "\n",
    "# Set up the figure size\n",
    "plt.figure(figsize=(10, 10))\n",
    "\n",
    "# Create a scatter plot with seaborn\n",
    "sns.scatterplot(x=f'{returned_variable_name} Mean', y=f'{returned_variable_name} Std', hue='Cluster', palette='viridis', data=stats_df, s=100, alpha=0.6, legend='full')\n",
    "\n",
    "# Plot the centroids\n",
    "for i, centroid in enumerate(centroids):\n",
    "    plt.scatter(centroid[0], centroid[1], marker='x', s=50, c='red')\n",
    "    plt.text(centroid[0], centroid[1], f'Centroid {i}', fontsize=9, color='red', weight='bold')\n",
    "\n",
    "# Add labels for each point\n",
    "for i in range(len(stats_df)):\n",
    "    plt.text(stats_df[f'{returned_variable_name} Mean'][i], stats_df[f'{returned_variable_name} Std'][i], stats_df['Model Group'][i], fontsize=9)\n",
    "\n",
    "# Set labels and title\n",
    "plt.xlabel(f'{returned_variable_name} Mean')\n",
    "plt.ylabel(f'{returned_variable_name} Std')\n",
    "plt.title(f'K-Means Clustering of {returned_variable_name} Statistics')\n",
    "plt.legend(title='Cluster',  bbox_to_anchor=(1.1, 1), loc='upper right')\n",
    "plt.grid(True)\n",
    "plt.show()"
   ]
  },
  {
   "cell_type": "markdown",
   "metadata": {},
   "source": [
    "### Implimenting Hierarchical clustering"
   ]
  },
  {
   "cell_type": "code",
   "execution_count": null,
   "metadata": {
    "tags": []
   },
   "outputs": [],
   "source": [
    "# def plot_hierarchical_clusters(compressed_data_list, method='ward'):\n",
    "#     \"\"\"\n",
    "#     Performs hierarchical clustering on the compressed data and plots the resulting dendrogram.\n",
    "    \n",
    "#     Args:\n",
    "#         compressed_data_list (list): A list of tuples containing source model and compressed ice thickness data.\n",
    "#         method (str): The linkage method to use. Default is 'ward'.\n",
    "#     \"\"\"\n",
    "#     fig, ax = plt.subplots(figsize=(10, 6))\n",
    "    \n",
    "#     for model_group, compressed_data in compressed_data_list:\n",
    "#         # Perform hierarchical clustering using the specified method\n",
    "#         linked = linkage(compressed_data.reshape(-1, 1), method=method)\n",
    "        \n",
    "#         # Plot the dendrogram\n",
    "#         dendrogram(linked,\n",
    "#                    orientation='top',\n",
    "#                    distance_sort='descending',\n",
    "#                    show_leaf_counts=True,\n",
    "#                    ax=ax,\n",
    "#                    label=source_model)\n",
    "    \n",
    "#     # Set the title of the plot indicating the clustering method used\n",
    "#     ax.set_title(f'Hierarchical Clustering Dendrogram ({method} method)')\n",
    "    \n",
    "#     # Label the x-axis\n",
    "#     ax.set_xlabel('Sample Index')\n",
    "    \n",
    "#     # Label the y-axis\n",
    "#     ax.set_ylabel('Distance')\n",
    "    \n",
    "#     # Add a legend to the plot to identify the source models\n",
    "#     ax.legend(loc='upper right', bbox_to_anchor=(1.3, 1))\n",
    "    \n",
    "#     # Display the plot\n",
    "#     plt.show()\n",
    "\n",
    "# # Define the number of clusters based on the elbow method (if applicable)\n",
    "# optimal_clusters = 4  # Replace this with the actual optimal number from the elbow method\n",
    "\n",
    "# # Call plot_hierarchical_clusters function with the compressed data\n",
    "# plot_hierarchical_clusters(result, method='ward')"
   ]
  },
  {
   "cell_type": "code",
   "execution_count": null,
   "metadata": {
    "tags": []
   },
   "outputs": [],
   "source": [
    "# cartopy_basemap()"
   ]
  },
  {
   "cell_type": "markdown",
   "metadata": {
    "tags": []
   },
   "source": [
    "### Adding in the Data\n",
    "Now that the basemap has been created, it is time to add the data that needs to be plotted"
   ]
  },
  {
   "cell_type": "code",
   "execution_count": null,
   "metadata": {},
   "outputs": [],
   "source": [
    "# # base_temp_VUW_PISM\n",
    "# lon_VP = base_temp_VUW_PISM['lon'][:]\n",
    "# lat_VP = base_temp_VUW_PISM['lat'][:]\n",
    "# base_VP = base_temp_VUW_PISM['litempbotgr'][0:]\n",
    "# label_VP = 'Temp beneath grounded ice sheet'\n",
    "\n",
    "# # base_temp_UAF_PISM2\n",
    "# lon_UP = base_temp_UAF_PISM2['lon'][:]\n",
    "# lat_UP = base_temp_UAF_PISM2['lat'][:]\n",
    "# base_UP = base_temp_UAF_PISM2['litempbotgr'][0:]\n",
    "# label_UP = 'Temp beneath grounded ice sheet'\n",
    "\n",
    "# # base_temp_UCIJPL_ISSM1\n",
    "# lon_UI = base_temp_UCIJPL_ISSM1['lon'][:]\n",
    "# lat_UI = base_temp_UCIJPL_ISSM1['lat'][:]\n",
    "# base_UI = base_temp_UCIJPL_ISSM1['litempbotgr'][0:]\n",
    "# label_UI = 'Temp beneath grounded ice sheet'\n",
    "\n",
    "# # base_temp_UCIJPL_ISSM2\n",
    "# lon_UI2 =  base_temp_UCIJPL_ISSM2['lon'][:]\n",
    "# lat_UI2 =  base_temp_UCIJPL_ISSM2['lat'][:]\n",
    "# base_UI2 =  base_temp_UCIJPL_ISSM2['litempbotgr'][0:]\n",
    "# label_UI2 = 'Temp beneath grounded ice sheet'\n",
    "\n",
    "# # bed_VUW_PISM\n",
    "# lon_b_VP =  bed_VUW_PISM['lon'][:]\n",
    "# lat_b_VP =  bed_VUW_PISM['lat'][:]\n",
    "# base_b_VP =  bed_VUW_PISM['topg'][0:]\n",
    "# label_b_VP = 'Bedrock elevation'\n",
    "\n",
    "# # iceT_VUW_PISM\n",
    "# lon_iT_VP =  iceT_VUW_PISM['lon'][:]\n",
    "# lat_iT_VP =  iceT_VUW_PISM['lat'][:]\n",
    "# base_iT_VP =  iceT_VUW_PISM['lithk'][0:]"
   ]
  },
  {
   "cell_type": "code",
   "execution_count": null,
   "metadata": {},
   "outputs": [],
   "source": [
    "# cartopy_basemap(lon_VP, lat_VP, base_VP, label_VP)"
   ]
  },
  {
   "cell_type": "code",
   "execution_count": null,
   "metadata": {},
   "outputs": [],
   "source": [
    "# cartopy_basemap(lon_UP, lat_UP, base_UP, label_UP)"
   ]
  },
  {
   "cell_type": "code",
   "execution_count": null,
   "metadata": {},
   "outputs": [],
   "source": [
    "# cartopy_basemap(lon_UI, lat_UI, base_UI)"
   ]
  },
  {
   "cell_type": "code",
   "execution_count": null,
   "metadata": {},
   "outputs": [],
   "source": [
    "# cartopy_basemap(lon_UI2, lat_UI2, base_UI2, label_UI2)"
   ]
  },
  {
   "cell_type": "code",
   "execution_count": null,
   "metadata": {},
   "outputs": [],
   "source": [
    "# cartopy_basemap(lon_iT_VP, lat_iT_VP, base_iT_VP)"
   ]
  },
  {
   "cell_type": "code",
   "execution_count": null,
   "metadata": {},
   "outputs": [],
   "source": [
    "# cartopy_basemap(lon_b_VP, lat_b_VP, base_b_VP, label_b_VP)"
   ]
  },
  {
   "cell_type": "markdown",
   "metadata": {},
   "source": [
    "### Processing Data"
   ]
  },
  {
   "cell_type": "code",
   "execution_count": null,
   "metadata": {},
   "outputs": [],
   "source": []
  },
  {
   "cell_type": "markdown",
   "metadata": {},
   "source": [
    "### Plotting and Graphs "
   ]
  },
  {
   "cell_type": "code",
   "execution_count": null,
   "metadata": {},
   "outputs": [],
   "source": []
  },
  {
   "cell_type": "markdown",
   "metadata": {},
   "source": [
    "### Elbow Method"
   ]
  },
  {
   "cell_type": "markdown",
   "metadata": {
    "tags": []
   },
   "source": [
    "### K-Means Clustering"
   ]
  },
  {
   "cell_type": "code",
   "execution_count": null,
   "metadata": {},
   "outputs": [],
   "source": []
  },
  {
   "cell_type": "markdown",
   "metadata": {},
   "source": [
    "### Results "
   ]
  },
  {
   "cell_type": "code",
   "execution_count": null,
   "metadata": {},
   "outputs": [],
   "source": []
  },
  {
   "cell_type": "markdown",
   "metadata": {
    "tags": []
   },
   "source": [
    "### References/Sources\n",
    "Used for mentioning papers, github, and other sites to find code sources or additonal information\n",
    "\n",
    "* <h5 id=\"C1\">[1]</h5><a href=\"https://www.climate-cryosphere.org/wiki/index.php?title=ISMIP6-Projections-Antarctica \">Cryosphere Climate Antartica</a>  Used for terminology and understanding the functionanilty of the ISMIP6 projections.\n",
    "* <h5 id=\"C2\">[2]</h5> <a href=\"https://www.climate-cryosphere.org/wiki/index.php?title=ISMIP6-Projections-Greenland\">Cryosphere Climate Greenland</a>: Used for terminology and understanding the functionanilty of the ISMIP6 projections.\n",
    "* <h5 id=\"C3\">[3]</h5> <a href=\"https://chat.openai.com/auth/login?iss=https%3A%2F%2Fauth0.openai.com%2F\">ChatGPT</a>: Used for converting matlab code into usable python code and additional code edits. \n",
    "* <h5 id=\"C4\">[4]</h5> <a href=\"https://github.com/hgoelzer-ismip6/ismip6-gris-analysis\">ISMIP6 Analysis Github</a>: Scripts for the plotting of ISMIP6 Greenland projections created by hgeolzer. Matlab scripts were converted into python by Eleanor M. Byrne using ChatGPT and other resources found. \n",
    "* <h5 id=\"C5\">[5]</h5> <a href=\"https://realpython.com/working-with-files-in-python/\">Working with Files in Python</a>: Website with helpful tips of viewing files. \n",
    "* <h5 id=\"C6\">[6]</h5> <a href=\"https://theghub.org/groups/ismip6/wiki/MainPage\">ISMIP6 Ghub</a>:Webpage on Ghub. \n",
    "* <h5 id=\"C7\">[7]</h5> <a href=\"https://www.pism.io/docs/manual/practical-usage/ismip6.html#tab-ismip6-variables\">ISMIP6_Term</a>\n",
    "* <h5 id=\"C8\">[8]</h5> <a href=\"https://scitools.org.uk/cartopy/docs/latest/matplotlib/intro.html#adding-data-to-the-map\">Cartopy</a> Used this for creating a base map of Greenland to plot the data found. "
   ]
  },
  {
   "cell_type": "markdown",
   "metadata": {},
   "source": []
  }
 ],
 "metadata": {
  "kernelspec": {
   "display_name": "Python 3 (ipykernel)",
   "language": "python",
   "name": "python3"
  },
  "language_info": {
   "codemirror_mode": {
    "name": "ipython",
    "version": 3
   },
   "file_extension": ".py",
   "mimetype": "text/x-python",
   "name": "python",
   "nbconvert_exporter": "python",
   "pygments_lexer": "ipython3",
   "version": "3.11.5"
  }
 },
 "nbformat": 4,
 "nbformat_minor": 4
}
